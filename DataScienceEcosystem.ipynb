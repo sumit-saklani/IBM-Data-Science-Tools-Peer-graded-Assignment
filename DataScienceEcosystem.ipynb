{
 "cells": [
  {
   "cell_type": "markdown",
   "id": "3af841a1-085a-40c9-9bd6-c0f07ea44f13",
   "metadata": {},
   "source": [
    "Create markdown cell with title of the notebook\n",
    "\n",
    "# Data Science Tools and Ecosystem"
   ]
  },
  {
   "cell_type": "markdown",
   "id": "80f2e8df-f449-4336-8d73-f557a23f61a6",
   "metadata": {},
   "source": [
    "Create a markdown cell for an introduction\n",
    "\n",
    "# In this notebook, Data Science Tools and Ecosystem are summarized."
   ]
  },
  {
   "cell_type": "markdown",
   "id": "360c1f87-ec2d-423c-a90e-a6f2669a4582",
   "metadata": {},
   "source": [
    "Create a markdown cell to list data science languages\n",
    "\n",
    "\n",
    "Some of the popular languages that Data Scientists use are:\n",
    "1. Python\n",
    "2. R\n",
    "3. Julia\n",
    "4. Scala\n",
    "5. SQL\n",
    "6. Java\n"
   ]
  },
  {
   "cell_type": "markdown",
   "id": "714a0c57-e6a7-468b-9dd0-b23f189d9019",
   "metadata": {},
   "source": [
    "Create a markdown cell to list data science libraries\n",
    "\n",
    "Some of the commonly used libraries used by Data Scientists include:\n",
    "\n",
    "1. TensorFlow\n",
    "2. NumPy\n",
    "3. SciPy\n",
    "4. Pandas\n",
    "5. Matplotlib"
   ]
  },
  {
   "cell_type": "markdown",
   "id": "78e4fe6e-0ad6-426b-baaa-bb12c3635246",
   "metadata": {},
   "source": [
    "Create a markdown cell with a table of Data Science tools\n",
    "\n",
    "# Data Science Tools\n",
    "|S.NO.|     TOOLS      |\n",
    "|:---:|:--------------:|\n",
    "|  1  |   Apache Spark |\n",
    "|  2  |      BigML     |\n",
    "|  3  |       SAS      |"
   ]
  },
  {
   "cell_type": "markdown",
   "id": "d45d0117-1183-4ac4-8fe0-ddf8f9dbe24d",
   "metadata": {},
   "source": [
    "Create a markdown cell introducing arithmetic expression examples\n",
    "\n",
    "### Below are a few examples of evaluating arithmetic expressions in Python\n",
    "\n",
    "### Addition\n",
    "2 + 3 = 5\n",
    "\n",
    "### Subtraction\n",
    "8 - 5 = 3\n",
    "\n",
    "### Multiplication\n",
    "3 * 4 = 12\n",
    "\n",
    "### Division\n",
    "10 / 2 = 5"
   ]
  },
  {
   "cell_type": "markdown",
   "id": "99d24034-80b0-46f9-891f-0f5e1fd113df",
   "metadata": {},
   "source": [
    "#Create a code cell to multiply and add numbers\n",
    "\n",
    "#This a simple arithmetic expression to mutiply then add integers\n",
    "\n",
    "(3*4)+5"
   ]
  },
  {
   "cell_type": "code",
   "execution_count": 6,
   "id": "f85cab5a-67e2-4b39-ba5f-e8a7f43d40cd",
   "metadata": {},
   "outputs": [
    {
     "name": "stdout",
     "output_type": "stream",
     "text": [
      "200 minutes is equal to 3.3333333333333335 hours\n"
     ]
    }
   ],
   "source": [
    "#Create a code cell to convert minutes to hours\n",
    "\n",
    "#This will convert 200 minutes to hours by diving by 60\n",
    "\n",
    "minutes=200\n",
    "hours=minutes/60\n",
    "print(\"200 minutes is equal to\",hours,\"hours\")"
   ]
  },
  {
   "cell_type": "markdown",
   "id": "2fe8838e-9347-42b2-802f-594b6955686d",
   "metadata": {},
   "source": [
    "Insert a markdown cell to list Objectives\n",
    "\n",
    "# Objectives:\n",
    "* Data Science Libraraies\n",
    "* Data Scienec Tools\n",
    "* GitHub\n",
    "* Headings\n",
    "* Arithmatic Operations"
   ]
  },
  {
   "cell_type": "markdown",
   "id": "a1f2ae61-ec1a-4363-9ee1-adadfed18bcc",
   "metadata": {},
   "source": [
    "## Author:\n",
    "\n",
    "Sumit Saklani"
   ]
  },
  {
   "cell_type": "code",
   "execution_count": null,
   "id": "41cec15c-c2a1-47f2-9761-1a1963a70373",
   "metadata": {},
   "outputs": [],
   "source": []
  }
 ],
 "metadata": {
  "kernelspec": {
   "display_name": "Python 3 (ipykernel)",
   "language": "python",
   "name": "python3"
  },
  "language_info": {
   "codemirror_mode": {
    "name": "ipython",
    "version": 3
   },
   "file_extension": ".py",
   "mimetype": "text/x-python",
   "name": "python",
   "nbconvert_exporter": "python",
   "pygments_lexer": "ipython3",
   "version": "3.11.7"
  }
 },
 "nbformat": 4,
 "nbformat_minor": 5
}
